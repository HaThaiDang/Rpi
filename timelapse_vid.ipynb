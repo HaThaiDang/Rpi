{
 "cells": [
  {
   "cell_type": "code",
   "execution_count": 1,
   "metadata": {},
   "outputs": [],
   "source": [
    "import cv2\n",
    "import os\n",
    "\n",
    "def create_timelapse(input_folder, output_video, fps=30):\n",
    "    # Get the list of image files in the input folder\n",
    "    image_files = [f for f in os.listdir(input_folder) if f.endswith('.jpg') or f.endswith('.png')]\n",
    "\n",
    "    # Sort the image files based on their names\n",
    "    image_files.sort()\n",
    "\n",
    "    # Read the first image to get dimensions\n",
    "    first_image = cv2.imread(os.path.join(input_folder, image_files[0]))\n",
    "    height, width, _ = first_image.shape\n",
    "\n",
    "    # Create video writer object\n",
    "    fourcc = cv2.VideoWriter_fourcc(*'mp4v')  # Define the codec\n",
    "    video_writer = cv2.VideoWriter(output_video, fourcc, fps, (width, height))\n",
    "\n",
    "    # Write each image to the video\n",
    "    for image_file in image_files:\n",
    "        image_path = os.path.join(input_folder, image_file)\n",
    "        image = cv2.imread(image_path)\n",
    "        video_writer.write(image)\n",
    "\n",
    "    # Release the video writer\n",
    "    video_writer.release()\n",
    "\n",
    "# Example usage:\n",
    "input_folder = 'images'\n",
    "output_video = 'output_timelapse.mp4'\n",
    "create_timelapse(input_folder, output_video)\n"
   ]
  },
  {
   "cell_type": "code",
   "execution_count": null,
   "metadata": {},
   "outputs": [],
   "source": []
  }
 ],
 "metadata": {
  "kernelspec": {
   "display_name": "Python 3",
   "language": "python",
   "name": "python3"
  },
  "language_info": {
   "codemirror_mode": {
    "name": "ipython",
    "version": 3
   },
   "file_extension": ".py",
   "mimetype": "text/x-python",
   "name": "python",
   "nbconvert_exporter": "python",
   "pygments_lexer": "ipython3",
   "version": "3.11.8"
  }
 },
 "nbformat": 4,
 "nbformat_minor": 2
}
